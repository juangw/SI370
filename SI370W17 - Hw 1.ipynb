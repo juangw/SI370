{
 "cells": [
  {
   "cell_type": "markdown",
   "metadata": {},
   "source": [
    "## Please provide\n",
    "\n",
    "### Your name:  William Juang\n",
    "### People you worked with:  [their names here]"
   ]
  },
  {
   "cell_type": "markdown",
   "metadata": {},
   "source": [
    "# SI 370 - Homework 1: Reviewing Python and NumPy + Pandas Basics"
   ]
  },
  {
   "cell_type": "markdown",
   "metadata": {},
   "source": [
    "**Objectives:**\n",
    "\n",
    "Reviewing Python and NumPy concepts and getting familiar with basic Pandas DataFrame operations, including:\n",
    "* importing data from files,\n",
    "* slicing, sorting, computing basic summary statistics.\n",
    "\n",
    "Our main purpose is to review what we have already covered in the class and the lab problems that we were not be able to complete."
   ]
  },
  {
   "cell_type": "markdown",
   "metadata": {},
   "source": [
    "**Submission Instructions:**\n",
    "After completing this homework, you should turn in two files via SI 370 001 WN 2017 -> Assignments:\n",
    "1. A Jupyter Notebook file named hw1-YOUR_UNIQUE_NAME.ipynb.  Please observe the following requirements:\n",
    "    * This file should show all of the required work, including code, results, visualizations (if any), and necessary comments to your code.\n",
    "    * You should use Markdown cells to enclose all textual content, including explanations, discoveries, and conclusions. Do not include such content unless required.\n",
    "    * Irrelevant code and results should be deleted prior to submission.\n",
    "2. An html file named hw1-YOUR_UNIQUE_NAME.html showing the preview of the above IPython Notebook. To create this file, select File -> Download as HTML. We want this in case something breaks when we load your notebook.  This will let us see what you saw when you were done."
   ]
  },
  {
   "cell_type": "markdown",
   "metadata": {},
   "source": [
    "## 1. Setup IPython Environment\n",
    "The configuration of Anaconda and Jupyter was covered in [Lab 1: Setup IPython Environment](https://docs.google.com/document/d/1mIl3xVq2jPh11c5xu_OHlv9N5q45gbYyCs5LHWLsFNY/edit?usp=sharing) (on Thursday January 05, 2017). We assume you have completed or reviewed all the required tasks in Lab 1 before attempting this homework."
   ]
  },
  {
   "cell_type": "markdown",
   "metadata": {},
   "source": [
    "## 2. Monsters, Again!\n",
    "We want to start with Python review. So, for this one you should use pure Python (Lists not Numpy arrays!). We suggest you review first lecture notes and the first lab before answering these questions.\n",
    "Let’s return to the first lab. Do you remember the movie monsters? Use the same code and load the two lists of names and heights."
   ]
  },
  {
   "cell_type": "code",
   "execution_count": 28,
   "metadata": {
    "collapsed": true
   },
   "outputs": [],
   "source": [
    "monsterNames = ['Ymir','King Kong','Blob','Yongary','Gamera','King Ghidorah','Kroll','Godzilla','Cloverfield Monster']\n",
    "monsterHeights = [4,15,10,50,80,150,250,100,60]\n",
    "\n",
    "# the two arrays are alligned... so Ymir is monsterNames[0] and Ymir's height can be found \n",
    "# by accessing monsterHeights[0] (in meters)"
   ]
  },
  {
   "cell_type": "markdown",
   "metadata": {},
   "source": [
    "a) Create two new empty lists, one for monster names called monsterNames2, and the other one for monster heights called monsterHeights2."
   ]
  },
  {
   "cell_type": "code",
   "execution_count": 29,
   "metadata": {
    "collapsed": true
   },
   "outputs": [],
   "source": [
    "monsterNames2 = []\n",
    "monsterHeights2 = []"
   ]
  },
  {
   "cell_type": "markdown",
   "metadata": {},
   "source": [
    "b) Insert the following monsters into the two lists. Each monster should be entered in the index (position) of the list that is indicated in the last column.\n",
    "![caption](MostersList.PNG)\n",
    "You have three ways of doing this by using insert, append, or initializing the list with predefined values."
   ]
  },
  {
   "cell_type": "code",
   "execution_count": 30,
   "metadata": {
    "collapsed": false
   },
   "outputs": [],
   "source": [
    "# Think about the differences between the three options. You can use whichever you prefer.\n",
    "monsterNames2.append(\"Aspidoceleon\")\n",
    "monsterNames2.append(\"Chimera\")\n",
    "monsterNames2.append(\"Djinniyeh\")\n",
    "monsterNames2.append(\"Faun\")\n",
    "monsterNames2.append(\"Griffen\")\n",
    "monsterNames2.append(\"Hieracosphinx\")\n",
    "monsterNames2.append(\"Mermicolion\")\n",
    "monsterHeights2.append(73)\n",
    "monsterHeights2.append(19)\n",
    "monsterHeights2.append(2)\n",
    "monsterHeights2.append(46)\n",
    "monsterHeights2.append(199)\n",
    "monsterHeights2.append(278)\n",
    "monsterHeights2.append(32)"
   ]
  },
  {
   "cell_type": "markdown",
   "metadata": {},
   "source": [
    "c) Concatenate monsterNames to monsterNames2 and monsterHeights2 to monsterHeights."
   ]
  },
  {
   "cell_type": "code",
   "execution_count": 31,
   "metadata": {
    "collapsed": false
   },
   "outputs": [
    {
     "name": "stdout",
     "output_type": "stream",
     "text": [
      "['Ymir', 'King Kong', 'Blob', 'Yongary', 'Gamera', 'King Ghidorah', 'Kroll', 'Godzilla', 'Cloverfield Monster', 'Aspidoceleon', 'Chimera', 'Djinniyeh', 'Faun', 'Griffen', 'Hieracosphinx', 'Mermicolion']\n",
      "[4, 15, 10, 50, 80, 150, 250, 100, 60, 73, 19, 2, 46, 199, 278, 32]\n"
     ]
    }
   ],
   "source": [
    "monsterNames2 = monsterNames + monsterNames2     # Fill it out.\n",
    "monsterHeight2 = monsterHeights + monsterHeights2    # Fill it out.\n",
    "print(monsterNames2)\n",
    "print(monsterHeight2)"
   ]
  },
  {
   "cell_type": "markdown",
   "metadata": {},
   "source": [
    "d) How many monsters are there in the concatenated lists?"
   ]
  },
  {
   "cell_type": "code",
   "execution_count": 32,
   "metadata": {
    "collapsed": false
   },
   "outputs": [
    {
     "name": "stdout",
     "output_type": "stream",
     "text": [
      "16\n",
      "16\n"
     ]
    }
   ],
   "source": [
    "# Don't forget to print out the number of monsters in each list. They should match.\n",
    "\n",
    "print(len(monsterNames2))\n",
    "print(len(monsterHeight2))"
   ]
  },
  {
   "cell_type": "markdown",
   "metadata": {},
   "source": [
    "e) Using the concatenated lists from the previous question, we want to run a contest between monsters. In order to make sure the contest is fair, we should match each monster with another monster with the closest height (based on absolute distance between the two heights).  If there’s a tie (two monsters are equally close) just pick one. Write a function that receives name of a monster as an input and returns name of another monster with the closest height."
   ]
  },
  {
   "cell_type": "code",
   "execution_count": 33,
   "metadata": {
    "collapsed": false
   },
   "outputs": [],
   "source": [
    "# Definition of the matching function:\n",
    "def matchFinder(monster1Name):\n",
    "    # Use monsterHeight2 and monsterNames2 inside this function.\n",
    "    index = monsterNames2.index(monster1Name)\n",
    "    heightdiff = []\n",
    "    heightindex = []\n",
    "    for i in monsterHeight2:\n",
    "        if abs(i - monsterHeight2[index]) > 0:\n",
    "            heightdiff.append(abs(i - monsterHeight2[index]))\n",
    "            heightindex.append(monsterHeight2.index(i))\n",
    "    # Fill out the function body.\n",
    "    \n",
    "    return monsterNames2[(heightindex[heightdiff.index(min(heightdiff))])] # Your function should return the name of the matched monster. Right now it returns the name of the first one."
   ]
  },
  {
   "cell_type": "code",
   "execution_count": 34,
   "metadata": {
    "collapsed": false
   },
   "outputs": [
    {
     "name": "stdout",
     "output_type": "stream",
     "text": [
      "Yongary\n",
      "Ymir\n",
      "Kroll\n"
     ]
    }
   ],
   "source": [
    "# Your function should return \"Yongary\" for \"Faun\".\n",
    "print(matchFinder(\"Faun\"))\n",
    "# Your function should return \"Ymir\" for \"Djinniyeh\".\n",
    "print(matchFinder(\"Djinniyeh\"))\n",
    "# Your function should return \"Kroll\" for \"Hieracosphinx\".\n",
    "print(matchFinder(\"Hieracosphinx\"))"
   ]
  },
  {
   "cell_type": "markdown",
   "metadata": {},
   "source": [
    "f) Modify your answer to the previous question such that if the monster does not exist in monsterNames2, prints out an error message and returns an empty string."
   ]
  },
  {
   "cell_type": "code",
   "execution_count": 35,
   "metadata": {
    "collapsed": false
   },
   "outputs": [],
   "source": [
    "# Definition of the matching function:\n",
    "def matchFinder2(monster1Name):\n",
    "    # Use monsterHeight2 and monsterNames2 inside this function.\n",
    "    if monster1Name not in monsterNames2:\n",
    "        return \"\"\n",
    "    else:\n",
    "        index = monsterNames2.index(monster1Name)\n",
    "        heightdiff = []\n",
    "        heightindex = []\n",
    "        for i in monsterHeight2:\n",
    "            if abs(i - monsterHeight2[index]) > 0:\n",
    "                heightdiff.append(abs(i - monsterHeight2[index]))\n",
    "                heightindex.append(monsterHeight2.index(i))\n",
    "        # Fill out the function body.\n",
    "\n",
    "        return monsterNames2[(heightindex[heightdiff.index(min(heightdiff))])] # Your function should return the name of the matched monster. Right now it returns the name of the first one."
   ]
  },
  {
   "cell_type": "code",
   "execution_count": 36,
   "metadata": {
    "collapsed": false
   },
   "outputs": [
    {
     "data": {
      "text/plain": [
       "''"
      ]
     },
     "execution_count": 36,
     "metadata": {},
     "output_type": "execute_result"
    }
   ],
   "source": [
    "# Your function should return the error message for \"Alice\".\n",
    "matchFinder2(\"Alice\")"
   ]
  },
  {
   "cell_type": "markdown",
   "metadata": {},
   "source": [
    "## Extra Credit\n",
    "g) Imagine we have very large lists of monsters. Clearly our answer to question E would not be efficient. However, we learned how to sort lists of monsters. Use the sorted lists to make your answer to question E more efficient. Your function should sort the monsters first. Then, every time you want to call the function to find a match for a monster, it uses the sorted lists and finds it much faster."
   ]
  },
  {
   "cell_type": "code",
   "execution_count": 37,
   "metadata": {
    "collapsed": false
   },
   "outputs": [],
   "source": [
    "# Definition of the matching function:\n",
    "def matchFinderSorted(monster1Name):\n",
    "    # Use monsterHeight2 and monsterNames2 inside this function.\n",
    "    \n",
    "    # Fill out the function body.\n",
    "    \n",
    "    return monsterNames2[0] # Your function should return the name of the matched monster. Right now it returns the name of the first one."
   ]
  },
  {
   "cell_type": "code",
   "execution_count": 38,
   "metadata": {
    "collapsed": false
   },
   "outputs": [
    {
     "name": "stdout",
     "output_type": "stream",
     "text": [
      "Ymir\n",
      "Ymir\n",
      "Ymir\n"
     ]
    }
   ],
   "source": [
    "# Your function should return \"Yongary\" for \"Faun\".\n",
    "print(matchFinderSorted(\"Faun\"))\n",
    "# Your function should return \"Ymir\" for \"Djinniyeh\".\n",
    "print(matchFinderSorted(\"Djinniyeh\"))\n",
    "# Your function should return \"Kroll\" for \"Hieracosphinx\".\n",
    "print(matchFinderSorted(\"Hieracosphinx\"))"
   ]
  },
  {
   "cell_type": "markdown",
   "metadata": {},
   "source": [
    "## 3a. Now, let’s use Pandas!"
   ]
  },
  {
   "cell_type": "code",
   "execution_count": 39,
   "metadata": {
    "collapsed": true
   },
   "outputs": [],
   "source": [
    "import numpy as np\n",
    "import pandas as pd\n",
    "from pandas import DataFrame"
   ]
  },
  {
   "cell_type": "markdown",
   "metadata": {},
   "source": [
    "We will be using the same dataset as in [Lab 1](https://docs.google.com/document/d/1mIl3xVq2jPh11c5xu_OHlv9N5q45gbYyCs5LHWLsFNY/edit?usp=sharing). The dataset (US baby names) can be downloaded from Canvas->SI 370 001 WN 2017->Files->Datasets->names.zip. Save the zip file in the same folder where you will put your Jupyter Notebook and unzip it. You should see a folder named names along with the .ipynb file created by you in the same folder.\n",
    "\n",
    "The names folder includes a number of files named in format yob<year>.txt. Think of this as the popularity of baby names by (y)ear (o)f (b)irth for that <year>. You may use a text editor to inspect the content of the files. Each file contains the information of the names of babies born in the corresponding year. The first several lines of yob1995.txt are shown below."
   ]
  },
  {
   "cell_type": "markdown",
   "metadata": {},
   "source": [
    "name,gender,birth_count\n",
    "\n",
    "Deziray,F,8\n",
    "\n",
    "Nafis,M,11\n",
    "\n",
    "Christan,F,52\n",
    "\n",
    "Adeel,M,8\n",
    "\n",
    "Nicolo,M,30"
   ]
  },
  {
   "cell_type": "markdown",
   "metadata": {},
   "source": [
    "The first line is the header, showing the column names. Each line in the rest of the file consists of three fields, names, gender, and the number of births for that name-gender combination in that year. Note that the names with fewer than 5 occurrences for the year are not included."
   ]
  },
  {
   "cell_type": "markdown",
   "metadata": {},
   "source": [
    "The command for importing a single file as a DataFrame is:"
   ]
  },
  {
   "cell_type": "code",
   "execution_count": 40,
   "metadata": {
    "collapsed": false
   },
   "outputs": [],
   "source": [
    "df_1995 = pd.read_csv('names/yob1995.txt')  # df means \"DataFrame\""
   ]
  },
  {
   "cell_type": "markdown",
   "metadata": {},
   "source": [
    "The commands for importing all files into a single DataFrame are (basically we are loading a data frame for each year and then mashing them up together):"
   ]
  },
  {
   "cell_type": "code",
   "execution_count": 41,
   "metadata": {
    "collapsed": false
   },
   "outputs": [],
   "source": [
    "df_1995 = pd.read_csv('names/yob1995.txt')\n",
    "dfs = []\n",
    "years = range(1880, 2015)\n",
    "for y in years:\n",
    "    df = pd.read_csv('names/yob%d.txt' % y)\n",
    "    df['year'] = y\n",
    "    dfs.append(df)\n",
    "df_all = pd.concat(dfs, ignore_index=True)"
   ]
  },
  {
   "cell_type": "markdown",
   "metadata": {},
   "source": [
    "You should be able to understand how most of the above commands work. The rest of the assignment will involve various basic operations on the two DataFrames, df_1995 and df_all, which are created by the above code."
   ]
  },
  {
   "cell_type": "markdown",
   "metadata": {},
   "source": [
    "## 3b. Slicing, Sorting, and Summary Statistics\n",
    "Answer the following by using proper Pandas operations. Both your code and results should be included in your submitted Jupyter Notebook (same below). All the questions in this section involve df_1995 only."
   ]
  },
  {
   "cell_type": "markdown",
   "metadata": {},
   "source": [
    "(a) What do you think is an appropriate main/index key for this dataframe? Why? Set that feature as the index of the dataframe."
   ]
  },
  {
   "cell_type": "code",
   "execution_count": 42,
   "metadata": {
    "collapsed": false
   },
   "outputs": [],
   "source": [
    "# The name is an appropriate main/index key for this dataframe because that is what separates the data.\n",
    "indexed_df_1995 = df_1995.set_index('name')"
   ]
  },
  {
   "cell_type": "markdown",
   "metadata": {},
   "source": [
    "(b) For which variable(s) in this dataset can you report average, variance, median, minimum, and maximum. Why? Report them."
   ]
  },
  {
   "cell_type": "code",
   "execution_count": 43,
   "metadata": {
    "collapsed": false
   },
   "outputs": [
    {
     "data": {
      "text/plain": [
       "gender             M\n",
       "birth_count    41403\n",
       "dtype: object"
      ]
     },
     "execution_count": 43,
     "metadata": {},
     "output_type": "execute_result"
    }
   ],
   "source": [
    "# You can only report the average, variance, median, minimum, and maximum for the birth_count column because that is the only\n",
    "# column with numerical data.\n",
    "\n",
    "indexed_df_1995.mean()\n",
    "indexed_df_1995.var()\n",
    "indexed_df_1995.median()\n",
    "indexed_df_1995.max()"
   ]
  },
  {
   "cell_type": "code",
   "execution_count": 44,
   "metadata": {
    "collapsed": false,
    "scrolled": true
   },
   "outputs": [
    {
     "name": "stdout",
     "output_type": "stream",
     "text": [
      "Average = 140.366526\n",
      "Variance = 1.212324e+06\n",
      "Median = 11\n",
      "Minimum = 5\n",
      "Maximum = 41403\n"
     ]
    }
   ],
   "source": [
    "print(\"Average = 140.366526\")\n",
    "print(\"Variance = 1.212324e+06\")\n",
    "print(\"Median = 11\")\n",
    "print(\"Minimum = 5\")\n",
    "print(\"Maximum = 41403\")"
   ]
  },
  {
   "cell_type": "markdown",
   "metadata": {},
   "source": [
    "(c) How many names have greater than 9,000 number of births?"
   ]
  },
  {
   "cell_type": "code",
   "execution_count": 45,
   "metadata": {
    "collapsed": false
   },
   "outputs": [
    {
     "data": {
      "text/plain": [
       "70"
      ]
     },
     "execution_count": 45,
     "metadata": {},
     "output_type": "execute_result"
    }
   ],
   "source": [
    "(indexed_df_1995.birth_count > 9000).sum()"
   ]
  },
  {
   "cell_type": "markdown",
   "metadata": {},
   "source": [
    "(d) Which names have greater than 9,000 number of births? What are their number of births?"
   ]
  },
  {
   "cell_type": "code",
   "execution_count": 46,
   "metadata": {
    "collapsed": false
   },
   "outputs": [
    {
     "data": {
      "text/html": [
       "<div>\n",
       "<table border=\"1\" class=\"dataframe\">\n",
       "  <thead>\n",
       "    <tr style=\"text-align: right;\">\n",
       "      <th></th>\n",
       "      <th>gender</th>\n",
       "      <th>birth_count</th>\n",
       "    </tr>\n",
       "    <tr>\n",
       "      <th>name</th>\n",
       "      <th></th>\n",
       "      <th></th>\n",
       "    </tr>\n",
       "  </thead>\n",
       "  <tbody>\n",
       "    <tr>\n",
       "      <th>Thomas</th>\n",
       "      <td>M</td>\n",
       "      <td>14159</td>\n",
       "    </tr>\n",
       "    <tr>\n",
       "      <th>Cody</th>\n",
       "      <td>M</td>\n",
       "      <td>15564</td>\n",
       "    </tr>\n",
       "    <tr>\n",
       "      <th>Jordan</th>\n",
       "      <td>M</td>\n",
       "      <td>13567</td>\n",
       "    </tr>\n",
       "    <tr>\n",
       "      <th>Eric</th>\n",
       "      <td>M</td>\n",
       "      <td>12478</td>\n",
       "    </tr>\n",
       "    <tr>\n",
       "      <th>Brittany</th>\n",
       "      <td>F</td>\n",
       "      <td>16477</td>\n",
       "    </tr>\n",
       "    <tr>\n",
       "      <th>Jose</th>\n",
       "      <td>M</td>\n",
       "      <td>11779</td>\n",
       "    </tr>\n",
       "    <tr>\n",
       "      <th>Austin</th>\n",
       "      <td>M</td>\n",
       "      <td>25906</td>\n",
       "    </tr>\n",
       "    <tr>\n",
       "      <th>Justin</th>\n",
       "      <td>M</td>\n",
       "      <td>21579</td>\n",
       "    </tr>\n",
       "    <tr>\n",
       "      <th>Danielle</th>\n",
       "      <td>F</td>\n",
       "      <td>10649</td>\n",
       "    </tr>\n",
       "    <tr>\n",
       "      <th>Daniel</th>\n",
       "      <td>M</td>\n",
       "      <td>26702</td>\n",
       "    </tr>\n",
       "    <tr>\n",
       "      <th>Morgan</th>\n",
       "      <td>F</td>\n",
       "      <td>10875</td>\n",
       "    </tr>\n",
       "    <tr>\n",
       "      <th>Jason</th>\n",
       "      <td>M</td>\n",
       "      <td>9001</td>\n",
       "    </tr>\n",
       "    <tr>\n",
       "      <th>Timothy</th>\n",
       "      <td>M</td>\n",
       "      <td>9786</td>\n",
       "    </tr>\n",
       "    <tr>\n",
       "      <th>Nicole</th>\n",
       "      <td>F</td>\n",
       "      <td>12276</td>\n",
       "    </tr>\n",
       "    <tr>\n",
       "      <th>Dylan</th>\n",
       "      <td>M</td>\n",
       "      <td>12087</td>\n",
       "    </tr>\n",
       "    <tr>\n",
       "      <th>Taylor</th>\n",
       "      <td>F</td>\n",
       "      <td>20424</td>\n",
       "    </tr>\n",
       "    <tr>\n",
       "      <th>James</th>\n",
       "      <td>M</td>\n",
       "      <td>22727</td>\n",
       "    </tr>\n",
       "    <tr>\n",
       "      <th>Zachary</th>\n",
       "      <td>M</td>\n",
       "      <td>23128</td>\n",
       "    </tr>\n",
       "    <tr>\n",
       "      <th>Matthew</th>\n",
       "      <td>M</td>\n",
       "      <td>32874</td>\n",
       "    </tr>\n",
       "    <tr>\n",
       "      <th>Ryan</th>\n",
       "      <td>M</td>\n",
       "      <td>23089</td>\n",
       "    </tr>\n",
       "    <tr>\n",
       "      <th>Samuel</th>\n",
       "      <td>M</td>\n",
       "      <td>12425</td>\n",
       "    </tr>\n",
       "    <tr>\n",
       "      <th>Christian</th>\n",
       "      <td>M</td>\n",
       "      <td>13807</td>\n",
       "    </tr>\n",
       "    <tr>\n",
       "      <th>Andrew</th>\n",
       "      <td>M</td>\n",
       "      <td>25842</td>\n",
       "    </tr>\n",
       "    <tr>\n",
       "      <th>John</th>\n",
       "      <td>M</td>\n",
       "      <td>23230</td>\n",
       "    </tr>\n",
       "    <tr>\n",
       "      <th>Adam</th>\n",
       "      <td>M</td>\n",
       "      <td>10482</td>\n",
       "    </tr>\n",
       "    <tr>\n",
       "      <th>Nathan</th>\n",
       "      <td>M</td>\n",
       "      <td>10304</td>\n",
       "    </tr>\n",
       "    <tr>\n",
       "      <th>Elizabeth</th>\n",
       "      <td>F</td>\n",
       "      <td>16183</td>\n",
       "    </tr>\n",
       "    <tr>\n",
       "      <th>Alexander</th>\n",
       "      <td>M</td>\n",
       "      <td>19446</td>\n",
       "    </tr>\n",
       "    <tr>\n",
       "      <th>Alyssa</th>\n",
       "      <td>F</td>\n",
       "      <td>10099</td>\n",
       "    </tr>\n",
       "    <tr>\n",
       "      <th>Emily</th>\n",
       "      <td>F</td>\n",
       "      <td>24377</td>\n",
       "    </tr>\n",
       "    <tr>\n",
       "      <th>...</th>\n",
       "      <td>...</td>\n",
       "      <td>...</td>\n",
       "    </tr>\n",
       "    <tr>\n",
       "      <th>Stephanie</th>\n",
       "      <td>F</td>\n",
       "      <td>12979</td>\n",
       "    </tr>\n",
       "    <tr>\n",
       "      <th>Rachel</th>\n",
       "      <td>F</td>\n",
       "      <td>16041</td>\n",
       "    </tr>\n",
       "    <tr>\n",
       "      <th>Lauren</th>\n",
       "      <td>F</td>\n",
       "      <td>13444</td>\n",
       "    </tr>\n",
       "    <tr>\n",
       "      <th>Sarah</th>\n",
       "      <td>F</td>\n",
       "      <td>21365</td>\n",
       "    </tr>\n",
       "    <tr>\n",
       "      <th>Jennifer</th>\n",
       "      <td>F</td>\n",
       "      <td>12685</td>\n",
       "    </tr>\n",
       "    <tr>\n",
       "      <th>Nicholas</th>\n",
       "      <td>M</td>\n",
       "      <td>29156</td>\n",
       "    </tr>\n",
       "    <tr>\n",
       "      <th>Jacob</th>\n",
       "      <td>M</td>\n",
       "      <td>31122</td>\n",
       "    </tr>\n",
       "    <tr>\n",
       "      <th>Joshua</th>\n",
       "      <td>M</td>\n",
       "      <td>30715</td>\n",
       "    </tr>\n",
       "    <tr>\n",
       "      <th>Hannah</th>\n",
       "      <td>F</td>\n",
       "      <td>17012</td>\n",
       "    </tr>\n",
       "    <tr>\n",
       "      <th>Kevin</th>\n",
       "      <td>M</td>\n",
       "      <td>15852</td>\n",
       "    </tr>\n",
       "    <tr>\n",
       "      <th>Steven</th>\n",
       "      <td>M</td>\n",
       "      <td>10660</td>\n",
       "    </tr>\n",
       "    <tr>\n",
       "      <th>Alexis</th>\n",
       "      <td>F</td>\n",
       "      <td>14330</td>\n",
       "    </tr>\n",
       "    <tr>\n",
       "      <th>Victoria</th>\n",
       "      <td>F</td>\n",
       "      <td>12250</td>\n",
       "    </tr>\n",
       "    <tr>\n",
       "      <th>Samantha</th>\n",
       "      <td>F</td>\n",
       "      <td>21646</td>\n",
       "    </tr>\n",
       "    <tr>\n",
       "      <th>David</th>\n",
       "      <td>M</td>\n",
       "      <td>23029</td>\n",
       "    </tr>\n",
       "    <tr>\n",
       "      <th>Benjamin</th>\n",
       "      <td>M</td>\n",
       "      <td>12709</td>\n",
       "    </tr>\n",
       "    <tr>\n",
       "      <th>Robert</th>\n",
       "      <td>M</td>\n",
       "      <td>18583</td>\n",
       "    </tr>\n",
       "    <tr>\n",
       "      <th>Jonathan</th>\n",
       "      <td>M</td>\n",
       "      <td>18147</td>\n",
       "    </tr>\n",
       "    <tr>\n",
       "      <th>Brianna</th>\n",
       "      <td>F</td>\n",
       "      <td>11879</td>\n",
       "    </tr>\n",
       "    <tr>\n",
       "      <th>Kayla</th>\n",
       "      <td>F</td>\n",
       "      <td>16083</td>\n",
       "    </tr>\n",
       "    <tr>\n",
       "      <th>Tyler</th>\n",
       "      <td>M</td>\n",
       "      <td>29153</td>\n",
       "    </tr>\n",
       "    <tr>\n",
       "      <th>Brandon</th>\n",
       "      <td>M</td>\n",
       "      <td>26901</td>\n",
       "    </tr>\n",
       "    <tr>\n",
       "      <th>Ashley</th>\n",
       "      <td>F</td>\n",
       "      <td>26603</td>\n",
       "    </tr>\n",
       "    <tr>\n",
       "      <th>William</th>\n",
       "      <td>M</td>\n",
       "      <td>20153</td>\n",
       "    </tr>\n",
       "    <tr>\n",
       "      <th>Courtney</th>\n",
       "      <td>F</td>\n",
       "      <td>12771</td>\n",
       "    </tr>\n",
       "    <tr>\n",
       "      <th>Christopher</th>\n",
       "      <td>M</td>\n",
       "      <td>32668</td>\n",
       "    </tr>\n",
       "    <tr>\n",
       "      <th>Anthony</th>\n",
       "      <td>M</td>\n",
       "      <td>20480</td>\n",
       "    </tr>\n",
       "    <tr>\n",
       "      <th>Joseph</th>\n",
       "      <td>M</td>\n",
       "      <td>25337</td>\n",
       "    </tr>\n",
       "    <tr>\n",
       "      <th>Michael</th>\n",
       "      <td>M</td>\n",
       "      <td>41403</td>\n",
       "    </tr>\n",
       "    <tr>\n",
       "      <th>Brian</th>\n",
       "      <td>M</td>\n",
       "      <td>10987</td>\n",
       "    </tr>\n",
       "  </tbody>\n",
       "</table>\n",
       "<p>70 rows × 2 columns</p>\n",
       "</div>"
      ],
      "text/plain": [
       "            gender  birth_count\n",
       "name                           \n",
       "Thomas           M        14159\n",
       "Cody             M        15564\n",
       "Jordan           M        13567\n",
       "Eric             M        12478\n",
       "Brittany         F        16477\n",
       "Jose             M        11779\n",
       "Austin           M        25906\n",
       "Justin           M        21579\n",
       "Danielle         F        10649\n",
       "Daniel           M        26702\n",
       "Morgan           F        10875\n",
       "Jason            M         9001\n",
       "Timothy          M         9786\n",
       "Nicole           F        12276\n",
       "Dylan            M        12087\n",
       "Taylor           F        20424\n",
       "James            M        22727\n",
       "Zachary          M        23128\n",
       "Matthew          M        32874\n",
       "Ryan             M        23089\n",
       "Samuel           M        12425\n",
       "Christian        M        13807\n",
       "Andrew           M        25842\n",
       "John             M        23230\n",
       "Adam             M        10482\n",
       "Nathan           M        10304\n",
       "Elizabeth        F        16183\n",
       "Alexander        M        19446\n",
       "Alyssa           F        10099\n",
       "Emily            F        24377\n",
       "...            ...          ...\n",
       "Stephanie        F        12979\n",
       "Rachel           F        16041\n",
       "Lauren           F        13444\n",
       "Sarah            F        21365\n",
       "Jennifer         F        12685\n",
       "Nicholas         M        29156\n",
       "Jacob            M        31122\n",
       "Joshua           M        30715\n",
       "Hannah           F        17012\n",
       "Kevin            M        15852\n",
       "Steven           M        10660\n",
       "Alexis           F        14330\n",
       "Victoria         F        12250\n",
       "Samantha         F        21646\n",
       "David            M        23029\n",
       "Benjamin         M        12709\n",
       "Robert           M        18583\n",
       "Jonathan         M        18147\n",
       "Brianna          F        11879\n",
       "Kayla            F        16083\n",
       "Tyler            M        29153\n",
       "Brandon          M        26901\n",
       "Ashley           F        26603\n",
       "William          M        20153\n",
       "Courtney         F        12771\n",
       "Christopher      M        32668\n",
       "Anthony          M        20480\n",
       "Joseph           M        25337\n",
       "Michael          M        41403\n",
       "Brian            M        10987\n",
       "\n",
       "[70 rows x 2 columns]"
      ]
     },
     "execution_count": 46,
     "metadata": {},
     "output_type": "execute_result"
    }
   ],
   "source": [
    "indexed_df_1995[(indexed_df_1995.birth_count > 9000)]"
   ]
  },
  {
   "cell_type": "markdown",
   "metadata": {},
   "source": [
    "(d) How many names have number of births between 1,000 and 1,003."
   ]
  },
  {
   "cell_type": "code",
   "execution_count": 47,
   "metadata": {
    "collapsed": false
   },
   "outputs": [
    {
     "data": {
      "text/plain": [
       "2"
      ]
     },
     "execution_count": 47,
     "metadata": {},
     "output_type": "execute_result"
    }
   ],
   "source": [
    "((indexed_df_1995.birth_count > 1000) & (indexed_df_1995.birth_count < 1003)).sum()"
   ]
  },
  {
   "cell_type": "markdown",
   "metadata": {},
   "source": [
    "(e) How many boy names are in this dataset?"
   ]
  },
  {
   "cell_type": "code",
   "execution_count": 48,
   "metadata": {
    "collapsed": false
   },
   "outputs": [
    {
     "data": {
      "text/plain": [
       "10326"
      ]
     },
     "execution_count": 48,
     "metadata": {},
     "output_type": "execute_result"
    }
   ],
   "source": [
    "(indexed_df_1995.gender == 'M').sum()"
   ]
  },
  {
   "cell_type": "markdown",
   "metadata": {},
   "source": [
    "(f) What are the 8 most popular names in this dataset? (Hint: You have already answered this!)"
   ]
  },
  {
   "cell_type": "code",
   "execution_count": 53,
   "metadata": {
    "collapsed": false
   },
   "outputs": [
    {
     "data": {
      "text/html": [
       "<div>\n",
       "<table border=\"1\" class=\"dataframe\">\n",
       "  <thead>\n",
       "    <tr style=\"text-align: right;\">\n",
       "      <th></th>\n",
       "      <th>gender</th>\n",
       "      <th>birth_count</th>\n",
       "    </tr>\n",
       "    <tr>\n",
       "      <th>name</th>\n",
       "      <th></th>\n",
       "      <th></th>\n",
       "    </tr>\n",
       "  </thead>\n",
       "  <tbody>\n",
       "    <tr>\n",
       "      <th>Michael</th>\n",
       "      <td>M</td>\n",
       "      <td>41403</td>\n",
       "    </tr>\n",
       "    <tr>\n",
       "      <th>Matthew</th>\n",
       "      <td>M</td>\n",
       "      <td>32874</td>\n",
       "    </tr>\n",
       "    <tr>\n",
       "      <th>Christopher</th>\n",
       "      <td>M</td>\n",
       "      <td>32668</td>\n",
       "    </tr>\n",
       "    <tr>\n",
       "      <th>Jacob</th>\n",
       "      <td>M</td>\n",
       "      <td>31122</td>\n",
       "    </tr>\n",
       "    <tr>\n",
       "      <th>Joshua</th>\n",
       "      <td>M</td>\n",
       "      <td>30715</td>\n",
       "    </tr>\n",
       "    <tr>\n",
       "      <th>Nicholas</th>\n",
       "      <td>M</td>\n",
       "      <td>29156</td>\n",
       "    </tr>\n",
       "    <tr>\n",
       "      <th>Tyler</th>\n",
       "      <td>M</td>\n",
       "      <td>29153</td>\n",
       "    </tr>\n",
       "    <tr>\n",
       "      <th>Jessica</th>\n",
       "      <td>F</td>\n",
       "      <td>27938</td>\n",
       "    </tr>\n",
       "  </tbody>\n",
       "</table>\n",
       "</div>"
      ],
      "text/plain": [
       "            gender  birth_count\n",
       "name                           \n",
       "Michael          M        41403\n",
       "Matthew          M        32874\n",
       "Christopher      M        32668\n",
       "Jacob            M        31122\n",
       "Joshua           M        30715\n",
       "Nicholas         M        29156\n",
       "Tyler            M        29153\n",
       "Jessica          F        27938"
      ]
     },
     "execution_count": 53,
     "metadata": {},
     "output_type": "execute_result"
    }
   ],
   "source": [
    "indexed_df_1995.sort_values('birth_count', ascending=False).head(8)"
   ]
  },
  {
   "cell_type": "markdown",
   "metadata": {
    "collapsed": false
   },
   "source": [
    "## 5. Hey, you forgot to pick a camera for Iman!\n",
    "We’re sure you have already collaborated with your classmates to answer “Q5: Recommendation Task” in lab 2.2. That’s perfect! In this assignment, we want you to think about your discussion with your classmates and the solution that you collaboratively found. However, try to do it again by yourself. Do not ask others anymore. If you came up with more creative ways of recommending the camera, that’s wonderful. Let us know about your ideas.\n",
    "\n",
    "First of all, download the dataset from Canvas -> SI 370 001 WN 2017 -> Files -> Datasets -> camera.csv\n",
    "\n",
    "Then copy the dataset to the same directory as this worksheet so you don't have to change the code below."
   ]
  },
  {
   "cell_type": "code",
   "execution_count": 80,
   "metadata": {
    "collapsed": false
   },
   "outputs": [],
   "source": [
    "import numpy as np\n",
    "import pandas as pd\n",
    "cameras = pd.read_csv('camera.csv')\n",
    "\n",
    "# Convert columns \"name\", \"resolution\", \"weight\", and \"price\" as NumPy arrays:\n",
    "nameArray = cameras['name'].values   # the names of the cameras\n",
    "resolutionArray = cameras['resolution'].values  # the resolution of the cameras\n",
    "weightArray = cameras['weight'].values # the weights of the cameras\n",
    "priceArray = cameras['price'].values # the prices of the cameras"
   ]
  },
  {
   "cell_type": "markdown",
   "metadata": {
    "collapsed": false
   },
   "source": [
    "In the previous lab question we identified the highest resolution, lowest price, and lowest weight. But these are not necessarily directing us to the same camera. Write a piece of code that solves this issue and filters the dataset to find the closest camera that Iman is looking for. What kind of information do you think Iman should provide for you to make your recommendation better?"
   ]
  },
  {
   "cell_type": "markdown",
   "metadata": {
    "collapsed": false
   },
   "source": [
    "**Step 1:** Hint: create some kind of score that combines the 'features' of interest.  For example, if I wanted cameras with high resolution, I might say:\n",
    "\n",
    "score = resolution - price  \n",
    "\n",
    "(as resolution goes up, score goes up; as price goes up, score goes down).  Do this with resolution, price, and weight. Think about whether you want to use the \"raw\" values or something normalized."
   ]
  },
  {
   "cell_type": "code",
   "execution_count": 124,
   "metadata": {
    "collapsed": false,
    "scrolled": true
   },
   "outputs": [
    {
     "name": "stdout",
     "output_type": "stream",
     "text": [
      "[ 0.242  0.243  0.203  0.201  0.201  0.121  0.2    0.201  0.16 ]\n",
      "[ 0.226   0.1622  0.0952  0.0423  0.113   0.0858  0.0497  0.042   0.059 ]\n",
      "[ 0.44695  0.698    0.329    0.118    0.799    0.2899   0.129    0.13999\n",
      "  0.2269 ]\n"
     ]
    }
   ],
   "source": [
    "# Define the function Normalizer below:\n",
    "def Normalizer (inputArray):\n",
    "    \n",
    "    while max(inputArray) > 1:\n",
    "        inputArray = inputArray/10\n",
    "    \n",
    "    return(inputArray)   # change this, right now it's returning exactly what you fed in\n",
    "    \n",
    "# test your code (prints the first 10 items)\n",
    "print(Normalizer(resolutionArray[1:10]))\n",
    "print(Normalizer(weightArray[1:10]))\n",
    "print(Normalizer(priceArray[1:10]))"
   ]
  },
  {
   "cell_type": "markdown",
   "metadata": {},
   "source": [
    "If your normalizer works fine, then save the normalized values in the following arrays:"
   ]
  },
  {
   "cell_type": "code",
   "execution_count": 125,
   "metadata": {
    "collapsed": true
   },
   "outputs": [],
   "source": [
    "resolutionNormalized = Normalizer(resolutionArray)\n",
    "weightNormalized = Normalizer(weightArray)\n",
    "priceNormalized = Normalizer(priceArray)"
   ]
  },
  {
   "cell_type": "code",
   "execution_count": 126,
   "metadata": {
    "collapsed": false
   },
   "outputs": [],
   "source": [
    "# Based on your definition of score, complete this code to create the score:\n",
    "cameras['score'] = (resolutionNormalized - weightNormalized - priceNormalized)"
   ]
  },
  {
   "cell_type": "markdown",
   "metadata": {
    "collapsed": false
   },
   "source": [
    "**Step 2:** Hint: Remember, Iman wants only cameras that are between 15 and 25 megapixels but not between 19 and 21.\n",
    "\n",
    "Create a filteredCameras dataframe that has only those cameras that Iman might want."
   ]
  },
  {
   "cell_type": "code",
   "execution_count": 127,
   "metadata": {
    "collapsed": false
   },
   "outputs": [
    {
     "data": {
      "text/html": [
       "<div>\n",
       "<table border=\"1\" class=\"dataframe\">\n",
       "  <thead>\n",
       "    <tr style=\"text-align: right;\">\n",
       "      <th></th>\n",
       "      <th>resolution</th>\n",
       "      <th>name</th>\n",
       "      <th>weight</th>\n",
       "      <th>price</th>\n",
       "      <th>score</th>\n",
       "    </tr>\n",
       "  </thead>\n",
       "  <tbody>\n",
       "    <tr>\n",
       "      <th>1</th>\n",
       "      <td>24.2</td>\n",
       "      <td>Nikon D3300 1532 18-55mm f/3.5-5.6G VR II Auto...</td>\n",
       "      <td>22.60</td>\n",
       "      <td>446.95</td>\n",
       "      <td>-0.028695</td>\n",
       "    </tr>\n",
       "    <tr>\n",
       "      <th>2</th>\n",
       "      <td>24.3</td>\n",
       "      <td>Sony Alpha a6000 Mirrorless Digital Camera wit...</td>\n",
       "      <td>16.22</td>\n",
       "      <td>698.00</td>\n",
       "      <td>0.011000</td>\n",
       "    </tr>\n",
       "    <tr>\n",
       "      <th>9</th>\n",
       "      <td>16.0</td>\n",
       "      <td>Nikon Coolpix S7000 16 MP Digital Camera with ...</td>\n",
       "      <td>5.90</td>\n",
       "      <td>226.90</td>\n",
       "      <td>0.078310</td>\n",
       "    </tr>\n",
       "    <tr>\n",
       "      <th>12</th>\n",
       "      <td>16.0</td>\n",
       "      <td>Nikon COOLPIX P900 Digital Camera with 83x Opt...</td>\n",
       "      <td>31.80</td>\n",
       "      <td>559.00</td>\n",
       "      <td>-0.213900</td>\n",
       "    </tr>\n",
       "    <tr>\n",
       "      <th>13</th>\n",
       "      <td>24.2</td>\n",
       "      <td>Nikon D3400 w/ AF-P DX NIKKOR 18-55mm f/3.5-5....</td>\n",
       "      <td>23.20</td>\n",
       "      <td>496.95</td>\n",
       "      <td>-0.039695</td>\n",
       "    </tr>\n",
       "    <tr>\n",
       "      <th>14</th>\n",
       "      <td>18.0</td>\n",
       "      <td>Canon EOS Rebel T6 Digital SLR Camera Kit with...</td>\n",
       "      <td>24.21</td>\n",
       "      <td>449.99</td>\n",
       "      <td>-0.107099</td>\n",
       "    </tr>\n",
       "    <tr>\n",
       "      <th>21</th>\n",
       "      <td>16.0</td>\n",
       "      <td>Olympus TG-870 Tough Waterproof Digital Camera...</td>\n",
       "      <td>7.80</td>\n",
       "      <td>279.99</td>\n",
       "      <td>0.054001</td>\n",
       "    </tr>\n",
       "    <tr>\n",
       "      <th>22</th>\n",
       "      <td>16.1</td>\n",
       "      <td>Panasonic LUMIX DMC-FZ70 16.1 MP Digital Camer...</td>\n",
       "      <td>21.44</td>\n",
       "      <td>249.99</td>\n",
       "      <td>-0.078399</td>\n",
       "    </tr>\n",
       "    <tr>\n",
       "      <th>23</th>\n",
       "      <td>18.2</td>\n",
       "      <td>Sony DSCWX220/B 18.2 MP Digital Camera with 2....</td>\n",
       "      <td>4.30</td>\n",
       "      <td>198.00</td>\n",
       "      <td>0.119200</td>\n",
       "    </tr>\n",
       "    <tr>\n",
       "      <th>25</th>\n",
       "      <td>18.0</td>\n",
       "      <td>Canon EOS Rebel T5i EF-S 18-55 IS STM Kit</td>\n",
       "      <td>27.70</td>\n",
       "      <td>599.00</td>\n",
       "      <td>-0.156900</td>\n",
       "    </tr>\n",
       "  </tbody>\n",
       "</table>\n",
       "</div>"
      ],
      "text/plain": [
       "    resolution                                               name  weight  \\\n",
       "1         24.2  Nikon D3300 1532 18-55mm f/3.5-5.6G VR II Auto...   22.60   \n",
       "2         24.3  Sony Alpha a6000 Mirrorless Digital Camera wit...   16.22   \n",
       "9         16.0  Nikon Coolpix S7000 16 MP Digital Camera with ...    5.90   \n",
       "12        16.0  Nikon COOLPIX P900 Digital Camera with 83x Opt...   31.80   \n",
       "13        24.2  Nikon D3400 w/ AF-P DX NIKKOR 18-55mm f/3.5-5....   23.20   \n",
       "14        18.0  Canon EOS Rebel T6 Digital SLR Camera Kit with...   24.21   \n",
       "21        16.0  Olympus TG-870 Tough Waterproof Digital Camera...    7.80   \n",
       "22        16.1  Panasonic LUMIX DMC-FZ70 16.1 MP Digital Camer...   21.44   \n",
       "23        18.2  Sony DSCWX220/B 18.2 MP Digital Camera with 2....    4.30   \n",
       "25        18.0          Canon EOS Rebel T5i EF-S 18-55 IS STM Kit   27.70   \n",
       "\n",
       "     price     score  \n",
       "1   446.95 -0.028695  \n",
       "2   698.00  0.011000  \n",
       "9   226.90  0.078310  \n",
       "12  559.00 -0.213900  \n",
       "13  496.95 -0.039695  \n",
       "14  449.99 -0.107099  \n",
       "21  279.99  0.054001  \n",
       "22  249.99 -0.078399  \n",
       "23  198.00  0.119200  \n",
       "25  599.00 -0.156900  "
      ]
     },
     "execution_count": 127,
     "metadata": {},
     "output_type": "execute_result"
    }
   ],
   "source": [
    "imanCriteria = ~((cameras.resolution > 19) & (cameras.resolution < 21)) & (cameras.resolution > 15) & (cameras.resolution < 25)\n",
    "\n",
    "filteredCameras = cameras[imanCriteria]  # fix this, right now filtered cameras and cameras is the same thing... use imanCriteria\n",
    "filteredCameras.head(10)  # print the first 10 lines"
   ]
  },
  {
   "cell_type": "markdown",
   "metadata": {
    "collapsed": false
   },
   "source": [
    "**Step 3:** Find the camera with the max score."
   ]
  },
  {
   "cell_type": "code",
   "execution_count": 152,
   "metadata": {
    "collapsed": false
   },
   "outputs": [
    {
     "data": {
      "text/html": [
       "<div>\n",
       "<table border=\"1\" class=\"dataframe\">\n",
       "  <thead>\n",
       "    <tr style=\"text-align: right;\">\n",
       "      <th></th>\n",
       "      <th>resolution</th>\n",
       "      <th>name</th>\n",
       "      <th>weight</th>\n",
       "      <th>price</th>\n",
       "      <th>score</th>\n",
       "    </tr>\n",
       "  </thead>\n",
       "  <tbody>\n",
       "    <tr>\n",
       "      <th>23</th>\n",
       "      <td>18.2</td>\n",
       "      <td>Sony DSCWX220/B 18.2 MP Digital Camera with 2....</td>\n",
       "      <td>4.3</td>\n",
       "      <td>198.0</td>\n",
       "      <td>0.1192</td>\n",
       "    </tr>\n",
       "  </tbody>\n",
       "</table>\n",
       "</div>"
      ],
      "text/plain": [
       "    resolution                                               name  weight  \\\n",
       "23        18.2  Sony DSCWX220/B 18.2 MP Digital Camera with 2....     4.3   \n",
       "\n",
       "    price   score  \n",
       "23  198.0  0.1192  "
      ]
     },
     "execution_count": 152,
     "metadata": {},
     "output_type": "execute_result"
    }
   ],
   "source": [
    "maxScore = max(cameras['score'])  # fix this, right now it's just using the first score as the max\n",
    "bestMatch = filteredCameras[filteredCameras.score > 0.11]   # fix this, right now it's not filtering at all\n",
    "bestMatch"
   ]
  }
 ],
 "metadata": {
  "anaconda-cloud": {},
  "kernelspec": {
   "display_name": "Python [default]",
   "language": "python",
   "name": "python3"
  },
  "language_info": {
   "codemirror_mode": {
    "name": "ipython",
    "version": 3
   },
   "file_extension": ".py",
   "mimetype": "text/x-python",
   "name": "python",
   "nbconvert_exporter": "python",
   "pygments_lexer": "ipython3",
   "version": "3.5.2"
  }
 },
 "nbformat": 4,
 "nbformat_minor": 0
}
